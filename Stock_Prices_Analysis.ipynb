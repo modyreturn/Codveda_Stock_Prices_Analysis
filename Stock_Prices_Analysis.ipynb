{
 "cells": [
  {
   "cell_type": "code",
   "execution_count": 1,
   "id": "3d74e349",
   "metadata": {},
   "outputs": [
    {
     "data": {
      "application/vnd.microsoft.datawrangler.viewer.v0+json": {
       "columns": [
        {
         "name": "index",
         "rawType": "int64",
         "type": "integer"
        },
        {
         "name": "symbol",
         "rawType": "object",
         "type": "string"
        },
        {
         "name": "date",
         "rawType": "object",
         "type": "string"
        },
        {
         "name": "open",
         "rawType": "float64",
         "type": "float"
        },
        {
         "name": "high",
         "rawType": "float64",
         "type": "float"
        },
        {
         "name": "low",
         "rawType": "float64",
         "type": "float"
        },
        {
         "name": "close",
         "rawType": "float64",
         "type": "float"
        },
        {
         "name": "volume",
         "rawType": "int64",
         "type": "integer"
        }
       ],
       "ref": "a525f03a-8d13-4774-8f94-a02495d6e4f1",
       "rows": [
        [
         "0",
         "AAL",
         "2014-01-02",
         "25.07",
         "25.82",
         "25.06",
         "25.36",
         "8998943"
        ],
        [
         "1",
         "AAPL",
         "2014-01-02",
         "79.3828",
         "79.5756",
         "78.8601",
         "79.0185",
         "58791957"
        ],
        [
         "2",
         "AAP",
         "2014-01-02",
         "110.36",
         "111.88",
         "109.29",
         "109.74",
         "542711"
        ],
        [
         "3",
         "ABBV",
         "2014-01-02",
         "52.12",
         "52.33",
         "51.52",
         "51.98",
         "4569061"
        ],
        [
         "4",
         "ABC",
         "2014-01-02",
         "70.11",
         "70.23",
         "69.48",
         "69.89",
         "1148391"
        ]
       ],
       "shape": {
        "columns": 7,
        "rows": 5
       }
      },
      "text/html": [
       "<div>\n",
       "<style scoped>\n",
       "    .dataframe tbody tr th:only-of-type {\n",
       "        vertical-align: middle;\n",
       "    }\n",
       "\n",
       "    .dataframe tbody tr th {\n",
       "        vertical-align: top;\n",
       "    }\n",
       "\n",
       "    .dataframe thead th {\n",
       "        text-align: right;\n",
       "    }\n",
       "</style>\n",
       "<table border=\"1\" class=\"dataframe\">\n",
       "  <thead>\n",
       "    <tr style=\"text-align: right;\">\n",
       "      <th></th>\n",
       "      <th>symbol</th>\n",
       "      <th>date</th>\n",
       "      <th>open</th>\n",
       "      <th>high</th>\n",
       "      <th>low</th>\n",
       "      <th>close</th>\n",
       "      <th>volume</th>\n",
       "    </tr>\n",
       "  </thead>\n",
       "  <tbody>\n",
       "    <tr>\n",
       "      <th>0</th>\n",
       "      <td>AAL</td>\n",
       "      <td>2014-01-02</td>\n",
       "      <td>25.0700</td>\n",
       "      <td>25.8200</td>\n",
       "      <td>25.0600</td>\n",
       "      <td>25.3600</td>\n",
       "      <td>8998943</td>\n",
       "    </tr>\n",
       "    <tr>\n",
       "      <th>1</th>\n",
       "      <td>AAPL</td>\n",
       "      <td>2014-01-02</td>\n",
       "      <td>79.3828</td>\n",
       "      <td>79.5756</td>\n",
       "      <td>78.8601</td>\n",
       "      <td>79.0185</td>\n",
       "      <td>58791957</td>\n",
       "    </tr>\n",
       "    <tr>\n",
       "      <th>2</th>\n",
       "      <td>AAP</td>\n",
       "      <td>2014-01-02</td>\n",
       "      <td>110.3600</td>\n",
       "      <td>111.8800</td>\n",
       "      <td>109.2900</td>\n",
       "      <td>109.7400</td>\n",
       "      <td>542711</td>\n",
       "    </tr>\n",
       "    <tr>\n",
       "      <th>3</th>\n",
       "      <td>ABBV</td>\n",
       "      <td>2014-01-02</td>\n",
       "      <td>52.1200</td>\n",
       "      <td>52.3300</td>\n",
       "      <td>51.5200</td>\n",
       "      <td>51.9800</td>\n",
       "      <td>4569061</td>\n",
       "    </tr>\n",
       "    <tr>\n",
       "      <th>4</th>\n",
       "      <td>ABC</td>\n",
       "      <td>2014-01-02</td>\n",
       "      <td>70.1100</td>\n",
       "      <td>70.2300</td>\n",
       "      <td>69.4800</td>\n",
       "      <td>69.8900</td>\n",
       "      <td>1148391</td>\n",
       "    </tr>\n",
       "  </tbody>\n",
       "</table>\n",
       "</div>"
      ],
      "text/plain": [
       "  symbol        date      open      high       low     close    volume\n",
       "0    AAL  2014-01-02   25.0700   25.8200   25.0600   25.3600   8998943\n",
       "1   AAPL  2014-01-02   79.3828   79.5756   78.8601   79.0185  58791957\n",
       "2    AAP  2014-01-02  110.3600  111.8800  109.2900  109.7400    542711\n",
       "3   ABBV  2014-01-02   52.1200   52.3300   51.5200   51.9800   4569061\n",
       "4    ABC  2014-01-02   70.1100   70.2300   69.4800   69.8900   1148391"
      ]
     },
     "execution_count": 1,
     "metadata": {},
     "output_type": "execute_result"
    }
   ],
   "source": [
    "import pandas as pd\n",
    "import numpy as np\n",
    "import matplotlib.pyplot as plt\n",
    "import seaborn as sns\n",
    "from matplotlib.ticker import FuncFormatter\n",
    "\n",
    "import warnings\n",
    "warnings.filterwarnings('ignore')\n",
    "\n",
    "\n",
    "df = pd.read_csv(r'C:\\Users\\Mohamed Fawzi\\OneDrive\\Área de Trabalho\\Stock Price Analysis\\Stock Prices Data Set.csv')\n",
    "\n",
    "df.head()"
   ]
  },
  {
   "cell_type": "markdown",
   "id": "052c47b2",
   "metadata": {},
   "source": [
    "## Preparing & Cleaning Data:"
   ]
  },
  {
   "cell_type": "code",
   "execution_count": 2,
   "id": "d3964fff",
   "metadata": {},
   "outputs": [
    {
     "name": "stdout",
     "output_type": "stream",
     "text": [
      "<class 'pandas.core.frame.DataFrame'>\n",
      "RangeIndex: 497472 entries, 0 to 497471\n",
      "Data columns (total 7 columns):\n",
      " #   Column  Non-Null Count   Dtype  \n",
      "---  ------  --------------   -----  \n",
      " 0   symbol  497472 non-null  object \n",
      " 1   date    497472 non-null  object \n",
      " 2   open    497461 non-null  float64\n",
      " 3   high    497464 non-null  float64\n",
      " 4   low     497464 non-null  float64\n",
      " 5   close   497472 non-null  float64\n",
      " 6   volume  497472 non-null  int64  \n",
      "dtypes: float64(4), int64(1), object(2)\n",
      "memory usage: 26.6+ MB\n"
     ]
    }
   ],
   "source": [
    "df.info()"
   ]
  },
  {
   "cell_type": "code",
   "execution_count": 4,
   "id": "34c2397c",
   "metadata": {},
   "outputs": [
    {
     "data": {
      "application/vnd.microsoft.datawrangler.viewer.v0+json": {
       "columns": [
        {
         "name": "index",
         "rawType": "object",
         "type": "string"
        },
        {
         "name": "open",
         "rawType": "float64",
         "type": "float"
        },
        {
         "name": "high",
         "rawType": "float64",
         "type": "float"
        },
        {
         "name": "low",
         "rawType": "float64",
         "type": "float"
        },
        {
         "name": "close",
         "rawType": "float64",
         "type": "float"
        },
        {
         "name": "volume",
         "rawType": "float64",
         "type": "float"
        }
       ],
       "ref": "5cd99040-b148-4e5e-ae41-0791e8b6c428",
       "rows": [
        [
         "count",
         "497461.0",
         "497464.0",
         "497464.0",
         "497472.0",
         "497472.0"
        ],
        [
         "mean",
         "86.35227481611624",
         "87.13256217193604",
         "85.55246746216812",
         "86.36908207456902",
         "4253610.897777162"
        ],
        [
         "std",
         "101.47122779518384",
         "102.31206175533661",
         "100.57095703268504",
         "101.47240737650641",
         "8232139.235882821"
        ],
        [
         "min",
         "1.62",
         "1.69",
         "1.5",
         "1.59",
         "0.0"
        ],
        [
         "25%",
         "41.69",
         "42.09",
         "41.28",
         "41.70375",
         "1080166.5"
        ],
        [
         "50%",
         "64.97",
         "65.56",
         "64.3537",
         "64.98",
         "2084896.5"
        ],
        [
         "75%",
         "98.41",
         "99.23",
         "97.58",
         "98.42",
         "4271928.0"
        ],
        [
         "max",
         "2044.0",
         "2067.99",
         "2035.11",
         "2049.0",
         "618237630.0"
        ]
       ],
       "shape": {
        "columns": 5,
        "rows": 8
       }
      },
      "text/html": [
       "<div>\n",
       "<style scoped>\n",
       "    .dataframe tbody tr th:only-of-type {\n",
       "        vertical-align: middle;\n",
       "    }\n",
       "\n",
       "    .dataframe tbody tr th {\n",
       "        vertical-align: top;\n",
       "    }\n",
       "\n",
       "    .dataframe thead th {\n",
       "        text-align: right;\n",
       "    }\n",
       "</style>\n",
       "<table border=\"1\" class=\"dataframe\">\n",
       "  <thead>\n",
       "    <tr style=\"text-align: right;\">\n",
       "      <th></th>\n",
       "      <th>open</th>\n",
       "      <th>high</th>\n",
       "      <th>low</th>\n",
       "      <th>close</th>\n",
       "      <th>volume</th>\n",
       "    </tr>\n",
       "  </thead>\n",
       "  <tbody>\n",
       "    <tr>\n",
       "      <th>count</th>\n",
       "      <td>497461.000000</td>\n",
       "      <td>497464.000000</td>\n",
       "      <td>497464.000000</td>\n",
       "      <td>497472.000000</td>\n",
       "      <td>4.974720e+05</td>\n",
       "    </tr>\n",
       "    <tr>\n",
       "      <th>mean</th>\n",
       "      <td>86.352275</td>\n",
       "      <td>87.132562</td>\n",
       "      <td>85.552467</td>\n",
       "      <td>86.369082</td>\n",
       "      <td>4.253611e+06</td>\n",
       "    </tr>\n",
       "    <tr>\n",
       "      <th>std</th>\n",
       "      <td>101.471228</td>\n",
       "      <td>102.312062</td>\n",
       "      <td>100.570957</td>\n",
       "      <td>101.472407</td>\n",
       "      <td>8.232139e+06</td>\n",
       "    </tr>\n",
       "    <tr>\n",
       "      <th>min</th>\n",
       "      <td>1.620000</td>\n",
       "      <td>1.690000</td>\n",
       "      <td>1.500000</td>\n",
       "      <td>1.590000</td>\n",
       "      <td>0.000000e+00</td>\n",
       "    </tr>\n",
       "    <tr>\n",
       "      <th>25%</th>\n",
       "      <td>41.690000</td>\n",
       "      <td>42.090000</td>\n",
       "      <td>41.280000</td>\n",
       "      <td>41.703750</td>\n",
       "      <td>1.080166e+06</td>\n",
       "    </tr>\n",
       "    <tr>\n",
       "      <th>50%</th>\n",
       "      <td>64.970000</td>\n",
       "      <td>65.560000</td>\n",
       "      <td>64.353700</td>\n",
       "      <td>64.980000</td>\n",
       "      <td>2.084896e+06</td>\n",
       "    </tr>\n",
       "    <tr>\n",
       "      <th>75%</th>\n",
       "      <td>98.410000</td>\n",
       "      <td>99.230000</td>\n",
       "      <td>97.580000</td>\n",
       "      <td>98.420000</td>\n",
       "      <td>4.271928e+06</td>\n",
       "    </tr>\n",
       "    <tr>\n",
       "      <th>max</th>\n",
       "      <td>2044.000000</td>\n",
       "      <td>2067.990000</td>\n",
       "      <td>2035.110000</td>\n",
       "      <td>2049.000000</td>\n",
       "      <td>6.182376e+08</td>\n",
       "    </tr>\n",
       "  </tbody>\n",
       "</table>\n",
       "</div>"
      ],
      "text/plain": [
       "                open           high            low          close  \\\n",
       "count  497461.000000  497464.000000  497464.000000  497472.000000   \n",
       "mean       86.352275      87.132562      85.552467      86.369082   \n",
       "std       101.471228     102.312062     100.570957     101.472407   \n",
       "min         1.620000       1.690000       1.500000       1.590000   \n",
       "25%        41.690000      42.090000      41.280000      41.703750   \n",
       "50%        64.970000      65.560000      64.353700      64.980000   \n",
       "75%        98.410000      99.230000      97.580000      98.420000   \n",
       "max      2044.000000    2067.990000    2035.110000    2049.000000   \n",
       "\n",
       "             volume  \n",
       "count  4.974720e+05  \n",
       "mean   4.253611e+06  \n",
       "std    8.232139e+06  \n",
       "min    0.000000e+00  \n",
       "25%    1.080166e+06  \n",
       "50%    2.084896e+06  \n",
       "75%    4.271928e+06  \n",
       "max    6.182376e+08  "
      ]
     },
     "execution_count": 4,
     "metadata": {},
     "output_type": "execute_result"
    }
   ],
   "source": [
    "# Statistics of the dataset\n",
    "df.describe()"
   ]
  },
  {
   "cell_type": "code",
   "execution_count": null,
   "id": "ff7880c3",
   "metadata": {},
   "outputs": [],
   "source": []
  }
 ],
 "metadata": {
  "kernelspec": {
   "display_name": "data_projects",
   "language": "python",
   "name": "python3"
  },
  "language_info": {
   "codemirror_mode": {
    "name": "ipython",
    "version": 3
   },
   "file_extension": ".py",
   "mimetype": "text/x-python",
   "name": "python",
   "nbconvert_exporter": "python",
   "pygments_lexer": "ipython3",
   "version": "3.12.3"
  }
 },
 "nbformat": 4,
 "nbformat_minor": 5
}
